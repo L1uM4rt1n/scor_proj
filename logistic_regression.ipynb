{
 "cells": [
  {
   "cell_type": "code",
   "execution_count": 11,
   "metadata": {},
   "outputs": [],
   "source": [
    "# Step 1: Import necessary libraries\n",
    "import pandas as pd\n",
    "import numpy as np\n",
    "from sklearn.model_selection import train_test_split\n",
    "from sklearn.linear_model import LogisticRegression\n",
    "from sklearn.metrics import classification_report, confusion_matrix\n",
    "from sklearn.preprocessing import StandardScaler\n",
    "import matplotlib.pyplot as plt\n",
    "import seaborn as sns"
   ]
  },
  {
   "cell_type": "code",
   "execution_count": 12,
   "metadata": {},
   "outputs": [
    {
     "name": "stdout",
     "output_type": "stream",
     "text": [
      "Index(['iot_lora_id', 'port', 'arrtime', 'rssi', 'district', 'post_code',\n",
      "       'unit'],\n",
      "      dtype='object')\n",
      "Index(['iot_lora_id', 'port', 'arrtime', 'rssi', 'district', 'post_code',\n",
      "       'unit', 'recording'],\n",
      "      dtype='object')\n",
      "   iot_lora_id  port              arrtime  rssi  district  post_code     unit\n",
      "0        17592     6  2024-03-01 00:17:49   -76        46     420064  #12-594\n",
      "1        17592     6  2024-03-01 00:49:56   -74        46     420064  #12-594\n",
      "2        17592     6  2024-03-01 01:04:40   -72        46     420064  #12-594\n",
      "3        17592     6  2024-03-01 01:14:19   -80        46     420064  #12-594\n",
      "4        17592     6  2024-03-01 01:42:27   -80        46     420064  #12-594\n",
      "   iot_lora_id  port              arrtime  rssi  district  post_code     unit  \\\n",
      "0        17592     6  2024-03-01 00:17:49   -76        46     420064  #12-594   \n",
      "1        17592     6  2024-03-01 00:49:56   -74        46     420064  #12-594   \n",
      "2        17592     6  2024-03-01 01:04:40   -72        46     420064  #12-594   \n",
      "3        17592     6  2024-03-01 01:14:19   -80        46     420064  #12-594   \n",
      "4        17592     6  2024-03-01 01:42:27   -80        46     420064  #12-594   \n",
      "\n",
      "    recording  \n",
      "0  audio/mpeg  \n",
      "1  audio/mpeg  \n",
      "2  audio/mpeg  \n",
      "3  audio/mpeg  \n",
      "4  audio/mpeg  \n"
     ]
    }
   ],
   "source": [
    "# Step 2: Load the datasets (replace with your actual paths if needed)\n",
    "calls = pd.read_csv('calls.csv')\n",
    "audio = pd.read_csv('audio_recording.csv')\n",
    "\n",
    "# Step 2.1: Inspect column names\n",
    "print(calls.columns)\n",
    "print(audio.columns)\n",
    "\n",
    "# Step 2.2: Preview the first few rows to understand the structure\n",
    "print(calls.head())\n",
    "print(audio.head())"
   ]
  },
  {
   "cell_type": "code",
   "execution_count": 14,
   "metadata": {},
   "outputs": [
    {
     "name": "stdout",
     "output_type": "stream",
     "text": [
      "1    1649\n",
      "0    1030\n",
      "Name: is_emergency, dtype: int64\n"
     ]
    }
   ],
   "source": [
    "# Step 3.4: Create a proxy 'is_emergency' column based on audio presence and RSSI\n",
    "# Example logic: If the call has an audio recording or strong RSSI (> -70), mark it as an emergency\n",
    "\n",
    "calls['is_emergency'] = np.where(\n",
    "    (calls['has_audio'] == 1) | (calls['rssi'] > -70), 1, 0\n",
    ")\n",
    "\n",
    "# Check the distribution of the target variable\n",
    "print(calls['is_emergency'].value_counts())"
   ]
  },
  {
   "cell_type": "code",
   "execution_count": 15,
   "metadata": {},
   "outputs": [
    {
     "name": "stdout",
     "output_type": "stream",
     "text": [
      "1    1649\n",
      "0    1030\n",
      "Name: is_emergency, dtype: int64\n"
     ]
    }
   ],
   "source": [
    "# Step 3.1: Convert 'arrtime' to datetime format for both datasets\n",
    "calls['arrtime'] = pd.to_datetime(calls['arrtime'])\n",
    "audio['arrtime'] = pd.to_datetime(audio['arrtime'])\n",
    "\n",
    "# Step 3.2: Create time-based features (hour and 2-hour intervals)\n",
    "calls['hour'] = calls['arrtime'].dt.hour  # Extract hour (0-23)\n",
    "calls['interval_2hr'] = (calls['hour'] // 2) * 2  # Create 2-hour intervals\n",
    "\n",
    "# Step 3.3: Add 'has_audio' feature by matching 'iot_lora_id' between datasets\n",
    "calls['has_audio'] = calls['iot_lora_id'].isin(audio['iot_lora_id']).astype(int)\n",
    "\n",
    "# Step 3.4: Check if 'is_emergency' column exists or needs to be created\n",
    "# For now, let’s assume you have a binary 'is_emergency' column (1 = emergency, 0 = non-emergency)\n",
    "# If not, you'll need to create it based on the problem context\n",
    "print(calls['is_emergency'].value_counts())"
   ]
  },
  {
   "cell_type": "code",
   "execution_count": 16,
   "metadata": {},
   "outputs": [
    {
     "name": "stdout",
     "output_type": "stream",
     "text": [
      "              precision    recall  f1-score   support\n",
      "\n",
      "           0       1.00      1.00      1.00       207\n",
      "           1       1.00      1.00      1.00       329\n",
      "\n",
      "    accuracy                           1.00       536\n",
      "   macro avg       1.00      1.00      1.00       536\n",
      "weighted avg       1.00      1.00      1.00       536\n",
      "\n"
     ]
    }
   ],
   "source": [
    "# Step 4: Prepare the Features and Target Variables\n",
    "X = calls[['hour', 'interval_2hr', 'rssi', 'has_audio']]  # Features\n",
    "y = calls['is_emergency']  # Target\n",
    "\n",
    "# Step 5: Split the Data into Training and Testing Sets\n",
    "X_train, X_test, y_train, y_test = train_test_split(X, y, test_size=0.2, random_state=42)\n",
    "\n",
    "# Step 6: Train the Logistic Regression Model\n",
    "model = LogisticRegression()\n",
    "model.fit(X_train, y_train)\n",
    "\n",
    "# Step 7: Make Predictions and Evaluate Performance\n",
    "y_pred = model.predict(X_test)\n",
    "print(classification_report(y_test, y_pred))"
   ]
  },
  {
   "cell_type": "code",
   "execution_count": 17,
   "metadata": {},
   "outputs": [
    {
     "data": {
      "image/png": "[encoded data removed]",
      "text/plain": [
       "<Figure size 800x600 with 1 Axes>"
      ]
     },
     "metadata": {},
     "output_type": "display_data"
    }
   ],
   "source": [
    "# Step 8.1: Generate a confusion matrix to evaluate performance\n",
    "import seaborn as sns\n",
    "import matplotlib.pyplot as plt\n",
    "\n",
    "cm = confusion_matrix(y_test, y_pred)\n",
    "\n",
    "# Visualize the confusion matrix\n",
    "plt.figure(figsize=(8, 6))\n",
    "sns.heatmap(cm, annot=True, cmap='Blues', fmt='d', cbar=False)\n",
    "plt.xlabel('Predicted Label')\n",
    "plt.ylabel('True Label')\n",
    "plt.title('Confusion Matrix')\n",
    "plt.show()"
   ]
  },
  {
   "cell_type": "code",
   "execution_count": 18,
   "metadata": {},
   "outputs": [
    {
     "name": "stdout",
     "output_type": "stream",
     "text": [
      "              precision    recall  f1-score   support\n",
      "\n",
      "           0       1.00      1.00      1.00       207\n",
      "           1       1.00      1.00      1.00       329\n",
      "\n",
      "    accuracy                           1.00       536\n",
      "   macro avg       1.00      1.00      1.00       536\n",
      "weighted avg       1.00      1.00      1.00       536\n",
      "\n"
     ]
    }
   ],
   "source": [
    "# Step 8.2: Display the classification report for detailed metrics\n",
    "print(classification_report(y_test, y_pred))"
   ]
  },
  {
   "cell_type": "code",
   "execution_count": 19,
   "metadata": {},
   "outputs": [
    {
     "data": {
      "image/png": "[encoded data removed]",
      "text/plain": [
       "<Figure size 800x600 with 1 Axes>"
      ]
     },
     "metadata": {},
     "output_type": "display_data"
    }
   ],
   "source": [
    "# Step 9: Plot the predicted probabilities for emergencies\n",
    "y_prob = model.predict_proba(X_test)[:, 1]  # Probability of class 1 (emergency)\n",
    "\n",
    "plt.figure(figsize=(8, 6))\n",
    "plt.hist(y_prob, bins=20, color='skyblue', edgecolor='black')\n",
    "plt.xlabel('Predicted Probability of Emergency')\n",
    "plt.ylabel('Frequency')\n",
    "plt.title('Histogram of Predicted Probabilities')\n",
    "plt.show()"
   ]
  },
  {
   "cell_type": "code",
   "execution_count": 20,
   "metadata": {},
   "outputs": [],
   "source": [
    "# Bed Occupancy Rates"
   ]
  },
  {
   "cell_type": "code",
   "execution_count": 21,
   "metadata": {},
   "outputs": [
    {
     "ename": "NameError",
     "evalue": "name 'bor_historical' is not defined",
     "output_type": "error",
     "traceback": [
      "\u001b[0;31m---------------------------------------------------------------------------\u001b[0m",
      "\u001b[0;31mNameError\u001b[0m                                 Traceback (most recent call last)",
      "Cell \u001b[0;32mIn[21], line 2\u001b[0m\n\u001b[1;32m      1\u001b[0m \u001b[38;5;66;03m# Step 1.1: Clean and reformat the historical BOR data\u001b[39;00m\n\u001b[0;32m----> 2\u001b[0m bor_historical_clean \u001b[38;5;241m=\u001b[39m \u001b[43mbor_historical\u001b[49m\u001b[38;5;241m.\u001b[39mdrop([\u001b[38;5;241m0\u001b[39m, \u001b[38;5;241m1\u001b[39m])\u001b[38;5;241m.\u001b[39mreset_index(drop\u001b[38;5;241m=\u001b[39m\u001b[38;5;28;01mTrue\u001b[39;00m)\n\u001b[1;32m      3\u001b[0m bor_historical_clean\u001b[38;5;241m.\u001b[39mcolumns \u001b[38;5;241m=\u001b[39m [\u001b[38;5;124m'\u001b[39m\u001b[38;5;124mYear\u001b[39m\u001b[38;5;124m'\u001b[39m, \u001b[38;5;124m'\u001b[39m\u001b[38;5;124mDate\u001b[39m\u001b[38;5;124m'\u001b[39m, \u001b[38;5;124m'\u001b[39m\u001b[38;5;124mAH\u001b[39m\u001b[38;5;124m'\u001b[39m, \u001b[38;5;124m'\u001b[39m\u001b[38;5;124mCGH\u001b[39m\u001b[38;5;124m'\u001b[39m, \u001b[38;5;124m'\u001b[39m\u001b[38;5;124mKTPH\u001b[39m\u001b[38;5;124m'\u001b[39m, \n\u001b[1;32m      4\u001b[0m                                 \u001b[38;5;124m'\u001b[39m\u001b[38;5;124mNTFGH\u001b[39m\u001b[38;5;124m'\u001b[39m, \u001b[38;5;124m'\u001b[39m\u001b[38;5;124mNUH(A)\u001b[39m\u001b[38;5;124m'\u001b[39m, \u001b[38;5;124m'\u001b[39m\u001b[38;5;124mSGH\u001b[39m\u001b[38;5;124m'\u001b[39m, \u001b[38;5;124m'\u001b[39m\u001b[38;5;124mSKH\u001b[39m\u001b[38;5;124m'\u001b[39m, \u001b[38;5;124m'\u001b[39m\u001b[38;5;124mTTSH\u001b[39m\u001b[38;5;124m'\u001b[39m, \u001b[38;5;124m'\u001b[39m\u001b[38;5;124mWH\u001b[39m\u001b[38;5;124m'\u001b[39m]\n\u001b[1;32m      6\u001b[0m \u001b[38;5;66;03m# Convert 'Date' to datetime format\u001b[39;00m\n",
      "\u001b[0;31mNameError\u001b[0m: name 'bor_historical' is not defined"
     ]
    }
   ],
   "source": [
    "# Step 1.1: Clean and reformat the historical BOR data\n",
    "bor_historical_clean = bor_historical.drop([0, 1]).reset_index(drop=True)\n",
    "bor_historical_clean.columns = ['Year', 'Date', 'AH', 'CGH', 'KTPH', \n",
    "                                'NTFGH', 'NUH(A)', 'SGH', 'SKH', 'TTSH', 'WH']\n",
    "\n",
    "# Convert 'Date' to datetime format\n",
    "bor_historical_clean['Date'] = pd.to_datetime(bor_historical_clean['Date'])\n",
    "\n",
    "# Step 1.2: Clean and format the current BOR data\n",
    "bor_current_clean = bor_current.drop([0, 1]).reset_index(drop=True)\n",
    "bor_current_clean.columns = ['Date', 'AH', 'CGH', 'KTPH', 'NTFGH', \n",
    "                             'NUH(A)', 'SGH', 'SKH', 'TTSH', 'WH']\n",
    "\n",
    "# Convert 'Date' to datetime format\n",
    "bor_current_clean['Date'] = pd.to_datetime(bor_current_clean['Date'])\n",
    "\n",
    "# Combine historical and current BOR data for a unified dataset\n",
    "bor_data = pd.concat([bor_historical_clean, bor_current_clean], axis=0)"
   ]
  },
  {
   "cell_type": "code",
   "execution_count": 22,
   "metadata": {},
   "outputs": [
    {
     "name": "stdout",
     "output_type": "stream",
     "text": [
      "Historical BOR Data:\n",
      "   Years       Date     AH    CGH   KTPH  NTFGH  NUH(A)    SGH  SKH   TTSH  WH\n",
      "0   2018 2018-01-01  0.399  0.813  0.968  0.789   0.735  0.743  NaN  0.936 NaN\n",
      "1   2018 2018-01-02  0.382  0.858  1.000  0.847   0.784  0.838  NaN  0.934 NaN\n",
      "2   2018 2018-01-03  0.399  0.864  0.999  0.875   0.831  0.881  NaN  0.925 NaN\n",
      "3   2018 2018-01-04  0.424  0.855  1.000  0.871   0.826  0.875  NaN  0.919 NaN\n",
      "4   2018 2018-01-05  0.429  0.844  1.000  0.843   0.798  0.848  NaN  0.905 NaN\n",
      "\n",
      "Current BOR Data:\n",
      "                  Date     AH       CGH   KTPH  NTFGH    NUH(A)       SGH  \\\n",
      "0  2024-09-29 00:00:00  0.523  0.851570  0.792  0.897  0.745875  0.787803   \n",
      "1  2024-09-30 00:00:00  0.594  0.877260  0.844  0.885  0.774229  0.827715   \n",
      "2  2024-10-01 00:00:00  0.629  0.884872  0.872  0.878  0.776678  0.847066   \n",
      "3  2024-10-02 00:00:00  0.654  0.865842  0.819  0.855  0.753575  0.842564   \n",
      "4  2024-10-03 00:00:00  0.647  0.867745  0.776  0.859  0.746975  0.826493   \n",
      "\n",
      "        SKH      TTSH     WH  \n",
      "0  0.856507  0.873083  0.687  \n",
      "1  0.865406  0.881601  0.771  \n",
      "2  0.872080  0.876385  0.761  \n",
      "3  0.855395  0.866781  0.744  \n",
      "4  0.860957  0.856655  0.697  \n"
     ]
    }
   ],
   "source": [
    "# Step 1: Load the Excel file using a relative path\n",
    "file_path = \"./bed-occupancy-rate_week40y2024 .xlsx\"\n",
    "\n",
    "# Load the relevant sheets into DataFrames\n",
    "bor_historical = pd.read_excel(file_path, sheet_name='BOR(%)_historical', header=2)  # Skip the first 2 rows\n",
    "bor_current = pd.read_excel(file_path, sheet_name='BOR', header=2)  # Skip the first 2 rows\n",
    "\n",
    "# Display the first few rows of each DataFrame to ensure they are loaded correctly\n",
    "print(\"Historical BOR Data:\")\n",
    "print(bor_historical.head())\n",
    "\n",
    "print(\"\\nCurrent BOR Data:\")\n",
    "print(bor_current.head())"
   ]
  },
  {
   "cell_type": "code",
   "execution_count": null,
   "metadata": {},
   "outputs": [],
   "source": []
  }
 ],
 "metadata": {
  "kernelspec": {
   "display_name": "base",
   "language": "python",
   "name": "python3"
  },
  "language_info": {
   "codemirror_mode": {
    "name": "ipython",
    "version": 3
   },
   "file_extension": ".py",
   "mimetype": "text/x-python",
   "name": "python",
   "nbconvert_exporter": "python",
   "pygments_lexer": "ipython3",
   "version": "3.9.12"
  }
 },
 "nbformat": 4,
 "nbformat_minor": 2
}
